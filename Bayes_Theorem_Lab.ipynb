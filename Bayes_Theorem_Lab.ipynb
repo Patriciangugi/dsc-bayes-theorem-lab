{
  "nbformat": 4,
  "nbformat_minor": 0,
  "metadata": {
    "colab": {
      "provenance": [],
      "authorship_tag": "ABX9TyP1439TUt3d+4vZXoiNxXQi",
      "include_colab_link": true
    },
    "kernelspec": {
      "name": "python3",
      "display_name": "Python 3"
    },
    "language_info": {
      "name": "python"
    }
  },
  "cells": [
    {
      "cell_type": "markdown",
      "metadata": {
        "id": "view-in-github",
        "colab_type": "text"
      },
      "source": [
        "<a href=\"https://colab.research.google.com/github/Patriciangugi/dsc-bayes-theorem-lab/blob/master/Bayes_Theorem_Lab.ipynb\" target=\"_parent\"><img src=\"https://colab.research.google.com/assets/colab-badge.svg\" alt=\"Open In Colab\"/></a>"
      ]
    },
    {
      "cell_type": "code",
      "source": [
        "def bayes(P_a, P_b, P_b_given_a):\n",
        "    # Your code here\n",
        "    return P_a_given_b"
      ],
      "metadata": {
        "id": "ib1TnF1NcZNH"
      },
      "execution_count": 2,
      "outputs": []
    },
    {
      "cell_type": "code",
      "source": [
        "def bayes(P_a, P_b_given_a, P_b_given_not_a, P_not_a):\n",
        "    # Calculate the overall probability of having a blemish\n",
        "    P_b = P_b_given_a * P_a + P_b_given_not_a * P_not_a\n",
        "\n",
        "    # Calculate the posterior probability using Bayes' theorem\n",
        "    P_a_given_b = (P_b_given_a * P_a) / P_b\n",
        "\n",
        "    return P_a_given_b\n",
        "\n",
        "# Given values\n",
        "P_a = 0.15  # Probability of having skin cancer\n",
        "P_b_given_a = 1  # Probability of having a blemish given having skin cancer\n",
        "P_b_given_not_a = 0.20  # Probability of having a blemish given not having skin cancer\n",
        "P_not_a = 1 - P_a  # Probability of not having skin cancer\n",
        "\n",
        "# Calculate the probability of having skin cancer given the blemish\n",
        "P_a_given_b = bayes(P_a, P_b_given_a, P_b_given_not_a, P_not_a)\n",
        "\n",
        "print(f\"Probability of having skin cancer given the blemish: {P_a_given_b:.4f}\")\n"
      ],
      "metadata": {
        "colab": {
          "base_uri": "https://localhost:8080/"
        },
        "id": "z4RazRlXqQEq",
        "outputId": "63873baf-e36d-4310-a02d-7d9e4e5a3bf6"
      },
      "execution_count": 3,
      "outputs": [
        {
          "output_type": "stream",
          "name": "stdout",
          "text": [
            "Probability of having skin cancer given the blemish: 0.4688\n"
          ]
        }
      ]
    },
    {
      "cell_type": "code",
      "source": [
        "def probability_two_boys_given_older_is_boy():\n",
        "    # Number of favorable outcomes\n",
        "    favorable_outcomes = 1  # (Boy, Boy)\n",
        "\n",
        "    # Number of possible outcomes given the older child is a boy\n",
        "    possible_outcomes = 2  # (Boy, Boy) and (Boy, Girl)\n",
        "\n",
        "    # Calculate the probability\n",
        "    probability = favorable_outcomes / possible_outcomes\n",
        "\n",
        "    return probability\n",
        "\n",
        "# Calculate the probability\n",
        "probability = probability_two_boys_given_older_is_boy()\n",
        "\n",
        "print(f\"Probability of having two boys given that the older child is a boy: {probability:.2f}\")\n"
      ],
      "metadata": {
        "colab": {
          "base_uri": "https://localhost:8080/"
        },
        "id": "zhHrvdJ6qQIi",
        "outputId": "3a81ccb1-c6c7-4473-82ad-3b0673412689"
      },
      "execution_count": 4,
      "outputs": [
        {
          "output_type": "stream",
          "name": "stdout",
          "text": [
            "Probability of having two boys given that the older child is a boy: 0.50\n"
          ]
        }
      ]
    },
    {
      "cell_type": "code",
      "source": [
        "def probability_disease_given_positive(sensitivity, specificity, prevalence):\n",
        "    # Calculate the probability of a positive test\n",
        "    P_positive_given_disease = sensitivity\n",
        "    P_positive_given_no_disease = 1 - specificity\n",
        "    P_disease = prevalence\n",
        "    P_no_disease = 1 - P_disease\n",
        "\n",
        "    P_positive_test = (P_positive_given_disease * P_disease) + (P_positive_given_no_disease * P_no_disease)\n",
        "\n",
        "    # Apply Bayes' theorem\n",
        "    P_disease_given_positive = (P_positive_given_disease * P_disease) / P_positive_test\n",
        "\n",
        "    return P_disease_given_positive\n",
        "\n",
        "# Given values\n",
        "sensitivity = 0.99  # P(Positive | Disease)\n",
        "specificity = 0.99  # P(Negative | No Disease)\n",
        "prevalence = 0.01  # P(Disease)\n",
        "\n",
        "# Calculate the probability\n",
        "P_disease_given_positive = probability_disease_given_positive(sensitivity, specificity, prevalence)\n",
        "\n",
        "print(f\"Probability of having the disease given a positive test: {P_disease_given_positive:.2f}\")\n"
      ],
      "metadata": {
        "colab": {
          "base_uri": "https://localhost:8080/"
        },
        "id": "GU6KyguGcZRu",
        "outputId": "4d0533d5-b37d-4a45-97bc-224b219f2686"
      },
      "execution_count": 5,
      "outputs": [
        {
          "output_type": "stream",
          "name": "stdout",
          "text": [
            "Probability of having the disease given a positive test: 0.50\n"
          ]
        }
      ]
    }
  ]
}